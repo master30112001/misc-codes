{
 "cells": [
  {
   "cell_type": "code",
   "execution_count": 2,
   "metadata": {},
   "outputs": [],
   "source": [
    "import seaborn as sb\n",
    "import matplotlib.pyplot as mp\n",
    "import pandas as pd\n"
   ]
  },
  {
   "cell_type": "code",
   "execution_count": 5,
   "metadata": {},
   "outputs": [],
   "source": [
    "data = pd.read_csv('./titanic.csv')"
   ]
  },
  {
   "cell_type": "code",
   "execution_count": 6,
   "metadata": {},
   "outputs": [
    {
     "name": "stdout",
     "output_type": "stream",
     "text": [
      "             Passengerid       Age      Fare       Sex     sibsp  zero  \\\n",
      "Passengerid     1.000000  0.025799  0.031128 -0.013406 -0.055224   NaN   \n",
      "Age             0.025799  1.000000  0.178182 -0.053663 -0.189972   NaN   \n",
      "Fare            0.031128  0.178182  1.000000  0.185681  0.160349   NaN   \n",
      "Sex            -0.013406 -0.053663  0.185681  1.000000  0.109609   NaN   \n",
      "sibsp          -0.055224 -0.189972  0.160349  0.109609  1.000000   NaN   \n",
      "zero                 NaN       NaN       NaN       NaN       NaN   NaN   \n",
      "zero.1               NaN       NaN       NaN       NaN       NaN   NaN   \n",
      "zero.2               NaN       NaN       NaN       NaN       NaN   NaN   \n",
      "zero.3               NaN       NaN       NaN       NaN       NaN   NaN   \n",
      "zero.4               NaN       NaN       NaN       NaN       NaN   NaN   \n",
      "zero.5               NaN       NaN       NaN       NaN       NaN   NaN   \n",
      "zero.6               NaN       NaN       NaN       NaN       NaN   NaN   \n",
      "Parch           0.008942 -0.125851  0.221635  0.213125  0.373587   NaN   \n",
      "zero.7               NaN       NaN       NaN       NaN       NaN   NaN   \n",
      "zero.8               NaN       NaN       NaN       NaN       NaN   NaN   \n",
      "zero.9               NaN       NaN       NaN       NaN       NaN   NaN   \n",
      "zero.10              NaN       NaN       NaN       NaN       NaN   NaN   \n",
      "zero.11              NaN       NaN       NaN       NaN       NaN   NaN   \n",
      "zero.12              NaN       NaN       NaN       NaN       NaN   NaN   \n",
      "zero.13              NaN       NaN       NaN       NaN       NaN   NaN   \n",
      "zero.14              NaN       NaN       NaN       NaN       NaN   NaN   \n",
      "Pclass         -0.038354 -0.377908 -0.558683 -0.124617  0.060832   NaN   \n",
      "zero.15              NaN       NaN       NaN       NaN       NaN   NaN   \n",
      "zero.16              NaN       NaN       NaN       NaN       NaN   NaN   \n",
      "Embarked       -0.051518 -0.065125 -0.239212 -0.099408  0.066055   NaN   \n",
      "zero.17              NaN       NaN       NaN       NaN       NaN   NaN   \n",
      "zero.18              NaN       NaN       NaN       NaN       NaN   NaN   \n",
      "2urvived       -0.331493 -0.055862  0.173786  0.404020 -0.014375   NaN   \n",
      "\n",
      "             zero.1  zero.2  zero.3  zero.4  ...  zero.12  zero.13  zero.14  \\\n",
      "Passengerid     NaN     NaN     NaN     NaN  ...      NaN      NaN      NaN   \n",
      "Age             NaN     NaN     NaN     NaN  ...      NaN      NaN      NaN   \n",
      "Fare            NaN     NaN     NaN     NaN  ...      NaN      NaN      NaN   \n",
      "Sex             NaN     NaN     NaN     NaN  ...      NaN      NaN      NaN   \n",
      "sibsp           NaN     NaN     NaN     NaN  ...      NaN      NaN      NaN   \n",
      "zero            NaN     NaN     NaN     NaN  ...      NaN      NaN      NaN   \n",
      "zero.1          NaN     NaN     NaN     NaN  ...      NaN      NaN      NaN   \n",
      "zero.2          NaN     NaN     NaN     NaN  ...      NaN      NaN      NaN   \n",
      "zero.3          NaN     NaN     NaN     NaN  ...      NaN      NaN      NaN   \n",
      "zero.4          NaN     NaN     NaN     NaN  ...      NaN      NaN      NaN   \n",
      "zero.5          NaN     NaN     NaN     NaN  ...      NaN      NaN      NaN   \n",
      "zero.6          NaN     NaN     NaN     NaN  ...      NaN      NaN      NaN   \n",
      "Parch           NaN     NaN     NaN     NaN  ...      NaN      NaN      NaN   \n",
      "zero.7          NaN     NaN     NaN     NaN  ...      NaN      NaN      NaN   \n",
      "zero.8          NaN     NaN     NaN     NaN  ...      NaN      NaN      NaN   \n",
      "zero.9          NaN     NaN     NaN     NaN  ...      NaN      NaN      NaN   \n",
      "zero.10         NaN     NaN     NaN     NaN  ...      NaN      NaN      NaN   \n",
      "zero.11         NaN     NaN     NaN     NaN  ...      NaN      NaN      NaN   \n",
      "zero.12         NaN     NaN     NaN     NaN  ...      NaN      NaN      NaN   \n",
      "zero.13         NaN     NaN     NaN     NaN  ...      NaN      NaN      NaN   \n",
      "zero.14         NaN     NaN     NaN     NaN  ...      NaN      NaN      NaN   \n",
      "Pclass          NaN     NaN     NaN     NaN  ...      NaN      NaN      NaN   \n",
      "zero.15         NaN     NaN     NaN     NaN  ...      NaN      NaN      NaN   \n",
      "zero.16         NaN     NaN     NaN     NaN  ...      NaN      NaN      NaN   \n",
      "Embarked        NaN     NaN     NaN     NaN  ...      NaN      NaN      NaN   \n",
      "zero.17         NaN     NaN     NaN     NaN  ...      NaN      NaN      NaN   \n",
      "zero.18         NaN     NaN     NaN     NaN  ...      NaN      NaN      NaN   \n",
      "2urvived        NaN     NaN     NaN     NaN  ...      NaN      NaN      NaN   \n",
      "\n",
      "               Pclass  zero.15  zero.16  Embarked  zero.17  zero.18  2urvived  \n",
      "Passengerid -0.038354      NaN      NaN -0.051518      NaN      NaN -0.331493  \n",
      "Age         -0.377908      NaN      NaN -0.065125      NaN      NaN -0.055862  \n",
      "Fare        -0.558683      NaN      NaN -0.239212      NaN      NaN  0.173786  \n",
      "Sex         -0.124617      NaN      NaN -0.099408      NaN      NaN  0.404020  \n",
      "sibsp        0.060832      NaN      NaN  0.066055      NaN      NaN -0.014375  \n",
      "zero              NaN      NaN      NaN       NaN      NaN      NaN       NaN  \n",
      "zero.1            NaN      NaN      NaN       NaN      NaN      NaN       NaN  \n",
      "zero.2            NaN      NaN      NaN       NaN      NaN      NaN       NaN  \n",
      "zero.3            NaN      NaN      NaN       NaN      NaN      NaN       NaN  \n",
      "zero.4            NaN      NaN      NaN       NaN      NaN      NaN       NaN  \n",
      "zero.5            NaN      NaN      NaN       NaN      NaN      NaN       NaN  \n",
      "zero.6            NaN      NaN      NaN       NaN      NaN      NaN       NaN  \n",
      "Parch        0.018322      NaN      NaN  0.045216      NaN      NaN  0.054908  \n",
      "zero.7            NaN      NaN      NaN       NaN      NaN      NaN       NaN  \n",
      "zero.8            NaN      NaN      NaN       NaN      NaN      NaN       NaN  \n",
      "zero.9            NaN      NaN      NaN       NaN      NaN      NaN       NaN  \n",
      "zero.10           NaN      NaN      NaN       NaN      NaN      NaN       NaN  \n",
      "zero.11           NaN      NaN      NaN       NaN      NaN      NaN       NaN  \n",
      "zero.12           NaN      NaN      NaN       NaN      NaN      NaN       NaN  \n",
      "zero.13           NaN      NaN      NaN       NaN      NaN      NaN       NaN  \n",
      "zero.14           NaN      NaN      NaN       NaN      NaN      NaN       NaN  \n",
      "Pclass       1.000000      NaN      NaN  0.187349      NaN      NaN -0.244686  \n",
      "zero.15           NaN      NaN      NaN       NaN      NaN      NaN       NaN  \n",
      "zero.16           NaN      NaN      NaN       NaN      NaN      NaN       NaN  \n",
      "Embarked     0.187349      NaN      NaN  1.000000      NaN      NaN -0.093225  \n",
      "zero.17           NaN      NaN      NaN       NaN      NaN      NaN       NaN  \n",
      "zero.18           NaN      NaN      NaN       NaN      NaN      NaN       NaN  \n",
      "2urvived    -0.244686      NaN      NaN -0.093225      NaN      NaN  1.000000  \n",
      "\n",
      "[28 rows x 28 columns]\n"
     ]
    }
   ],
   "source": [
    "print(data.corr())"
   ]
  },
  {
   "cell_type": "code",
   "execution_count": 7,
   "metadata": {},
   "outputs": [
    {
     "data": {
      "image/png": "[encoded data removed]",
      "text/plain": [
       "<Figure size 432x288 with 2 Axes>"
      ]
     },
     "metadata": {
      "needs_background": "light"
     },
     "output_type": "display_data"
    }
   ],
   "source": [
    "# you can add ', annot=True' at end for annotations\n",
    "dataplot = sb.heatmap(data.corr(), cmap=\"YlGnBu\")"
   ]
  },
  {
   "cell_type": "code",
   "execution_count": 8,
   "metadata": {},
   "outputs": [
    {
     "data": {
      "text/plain": [
       "0         7.2500\n",
       "1        71.2833\n",
       "2         7.9250\n",
       "3        53.1000\n",
       "4         8.0500\n",
       "          ...   \n",
       "1304      8.0500\n",
       "1305    108.9000\n",
       "1306      7.2500\n",
       "1307      8.0500\n",
       "1308     22.3583\n",
       "Name: Fare, Length: 1309, dtype: float64"
      ]
     },
     "execution_count": 8,
     "metadata": {},
     "output_type": "execute_result"
    }
   ],
   "source": [
    "data.Fare"
   ]
  },
  {
   "cell_type": "code",
   "execution_count": 9,
   "metadata": {},
   "outputs": [
    {
     "data": {
      "text/plain": [
       "(array([753., 292.,  78.,  69.,  33.]),\n",
       " array([  0,  20,  40,  60,  80, 100]),\n",
       " <BarContainer object of 5 artists>)"
      ]
     },
     "execution_count": 9,
     "metadata": {},
     "output_type": "execute_result"
    },
    {
     "data": {
      "image/png": "[encoded data removed]",
      "text/plain": [
       "<Figure size 720x504 with 1 Axes>"
      ]
     },
     "metadata": {
      "needs_background": "light"
     },
     "output_type": "display_data"
    }
   ],
   "source": [
    "# figsize allows us to modify the width and height of the bars\n",
    "# bins are the bars \n",
    "\n",
    "# fig : This method return the figure layout.\n",
    "# ax : This method return the axes. Axes object or array of Axes objects.\n",
    "\n",
    "fig, ax = mp.subplots(figsize =(10, 7))\n",
    "ax.hist(data.Fare, bins = [0, 20, 40, 60 , 80 , 100])"
   ]
  },
  {
   "cell_type": "code",
   "execution_count": 10,
   "metadata": {},
   "outputs": [
    {
     "data": {
      "text/html": [
       "<div>\n",
       "<style scoped>\n",
       "    .dataframe tbody tr th:only-of-type {\n",
       "        vertical-align: middle;\n",
       "    }\n",
       "\n",
       "    .dataframe tbody tr th {\n",
       "        vertical-align: top;\n",
       "    }\n",
       "\n",
       "    .dataframe thead th {\n",
       "        text-align: right;\n",
       "    }\n",
       "</style>\n",
       "<table border=\"1\" class=\"dataframe\">\n",
       "  <thead>\n",
       "    <tr style=\"text-align: right;\">\n",
       "      <th></th>\n",
       "      <th>Passengerid</th>\n",
       "      <th>Age</th>\n",
       "      <th>Fare</th>\n",
       "      <th>Sex</th>\n",
       "      <th>sibsp</th>\n",
       "      <th>zero</th>\n",
       "      <th>zero.1</th>\n",
       "      <th>zero.2</th>\n",
       "      <th>zero.3</th>\n",
       "      <th>zero.4</th>\n",
       "      <th>...</th>\n",
       "      <th>zero.12</th>\n",
       "      <th>zero.13</th>\n",
       "      <th>zero.14</th>\n",
       "      <th>Pclass</th>\n",
       "      <th>zero.15</th>\n",
       "      <th>zero.16</th>\n",
       "      <th>Embarked</th>\n",
       "      <th>zero.17</th>\n",
       "      <th>zero.18</th>\n",
       "      <th>2urvived</th>\n",
       "    </tr>\n",
       "  </thead>\n",
       "  <tbody>\n",
       "    <tr>\n",
       "      <th>0</th>\n",
       "      <td>1</td>\n",
       "      <td>22.0</td>\n",
       "      <td>7.2500</td>\n",
       "      <td>0</td>\n",
       "      <td>1</td>\n",
       "      <td>0</td>\n",
       "      <td>0</td>\n",
       "      <td>0</td>\n",
       "      <td>0</td>\n",
       "      <td>0</td>\n",
       "      <td>...</td>\n",
       "      <td>0</td>\n",
       "      <td>0</td>\n",
       "      <td>0</td>\n",
       "      <td>3</td>\n",
       "      <td>0</td>\n",
       "      <td>0</td>\n",
       "      <td>2.0</td>\n",
       "      <td>0</td>\n",
       "      <td>0</td>\n",
       "      <td>0</td>\n",
       "    </tr>\n",
       "    <tr>\n",
       "      <th>1</th>\n",
       "      <td>2</td>\n",
       "      <td>38.0</td>\n",
       "      <td>71.2833</td>\n",
       "      <td>1</td>\n",
       "      <td>1</td>\n",
       "      <td>0</td>\n",
       "      <td>0</td>\n",
       "      <td>0</td>\n",
       "      <td>0</td>\n",
       "      <td>0</td>\n",
       "      <td>...</td>\n",
       "      <td>0</td>\n",
       "      <td>0</td>\n",
       "      <td>0</td>\n",
       "      <td>1</td>\n",
       "      <td>0</td>\n",
       "      <td>0</td>\n",
       "      <td>0.0</td>\n",
       "      <td>0</td>\n",
       "      <td>0</td>\n",
       "      <td>1</td>\n",
       "    </tr>\n",
       "    <tr>\n",
       "      <th>2</th>\n",
       "      <td>3</td>\n",
       "      <td>26.0</td>\n",
       "      <td>7.9250</td>\n",
       "      <td>1</td>\n",
       "      <td>0</td>\n",
       "      <td>0</td>\n",
       "      <td>0</td>\n",
       "      <td>0</td>\n",
       "      <td>0</td>\n",
       "      <td>0</td>\n",
       "      <td>...</td>\n",
       "      <td>0</td>\n",
       "      <td>0</td>\n",
       "      <td>0</td>\n",
       "      <td>3</td>\n",
       "      <td>0</td>\n",
       "      <td>0</td>\n",
       "      <td>2.0</td>\n",
       "      <td>0</td>\n",
       "      <td>0</td>\n",
       "      <td>1</td>\n",
       "    </tr>\n",
       "    <tr>\n",
       "      <th>3</th>\n",
       "      <td>4</td>\n",
       "      <td>35.0</td>\n",
       "      <td>53.1000</td>\n",
       "      <td>1</td>\n",
       "      <td>1</td>\n",
       "      <td>0</td>\n",
       "      <td>0</td>\n",
       "      <td>0</td>\n",
       "      <td>0</td>\n",
       "      <td>0</td>\n",
       "      <td>...</td>\n",
       "      <td>0</td>\n",
       "      <td>0</td>\n",
       "      <td>0</td>\n",
       "      <td>1</td>\n",
       "      <td>0</td>\n",
       "      <td>0</td>\n",
       "      <td>2.0</td>\n",
       "      <td>0</td>\n",
       "      <td>0</td>\n",
       "      <td>1</td>\n",
       "    </tr>\n",
       "    <tr>\n",
       "      <th>4</th>\n",
       "      <td>5</td>\n",
       "      <td>35.0</td>\n",
       "      <td>8.0500</td>\n",
       "      <td>0</td>\n",
       "      <td>0</td>\n",
       "      <td>0</td>\n",
       "      <td>0</td>\n",
       "      <td>0</td>\n",
       "      <td>0</td>\n",
       "      <td>0</td>\n",
       "      <td>...</td>\n",
       "      <td>0</td>\n",
       "      <td>0</td>\n",
       "      <td>0</td>\n",
       "      <td>3</td>\n",
       "      <td>0</td>\n",
       "      <td>0</td>\n",
       "      <td>2.0</td>\n",
       "      <td>0</td>\n",
       "      <td>0</td>\n",
       "      <td>0</td>\n",
       "    </tr>\n",
       "  </tbody>\n",
       "</table>\n",
       "<p>5 rows × 28 columns</p>\n",
       "</div>"
      ],
      "text/plain": [
       "   Passengerid   Age     Fare  Sex  sibsp  zero  zero.1  zero.2  zero.3  \\\n",
       "0            1  22.0   7.2500    0      1     0       0       0       0   \n",
       "1            2  38.0  71.2833    1      1     0       0       0       0   \n",
       "2            3  26.0   7.9250    1      0     0       0       0       0   \n",
       "3            4  35.0  53.1000    1      1     0       0       0       0   \n",
       "4            5  35.0   8.0500    0      0     0       0       0       0   \n",
       "\n",
       "   zero.4  ...  zero.12  zero.13  zero.14  Pclass  zero.15  zero.16  Embarked  \\\n",
       "0       0  ...        0        0        0       3        0        0       2.0   \n",
       "1       0  ...        0        0        0       1        0        0       0.0   \n",
       "2       0  ...        0        0        0       3        0        0       2.0   \n",
       "3       0  ...        0        0        0       1        0        0       2.0   \n",
       "4       0  ...        0        0        0       3        0        0       2.0   \n",
       "\n",
       "   zero.17  zero.18  2urvived  \n",
       "0        0        0         0  \n",
       "1        0        0         1  \n",
       "2        0        0         1  \n",
       "3        0        0         1  \n",
       "4        0        0         0  \n",
       "\n",
       "[5 rows x 28 columns]"
      ]
     },
     "execution_count": 10,
     "metadata": {},
     "output_type": "execute_result"
    }
   ],
   "source": [
    "data.head()"
   ]
  },
  {
   "cell_type": "code",
   "execution_count": null,
   "metadata": {},
   "outputs": [],
   "source": []
  }
 ],
 "metadata": {
  "kernelspec": {
   "display_name": "Python 3",
   "language": "python",
   "name": "python3"
  },
  "language_info": {
   "codemirror_mode": {
    "name": "ipython",
    "version": 3
   },
   "file_extension": ".py",
   "mimetype": "text/x-python",
   "name": "python",
   "nbconvert_exporter": "python",
   "pygments_lexer": "ipython3",
   "version": "3.6.9"
  }
 },
 "nbformat": 4,
 "nbformat_minor": 4
}
